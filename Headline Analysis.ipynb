{
 "cells": [
  {
   "cell_type": "code",
   "execution_count": 2,
   "metadata": {},
   "outputs": [],
   "source": [
    "import pandas as pd\n",
    "import nltk\n",
    "import gensim\n",
    "from nltk.corpus import stopwords\n",
    "from nltk.stem import PorterStemmer\n",
    "from nltk.stem import WordNetLemmatizer\n",
    "from gensim import corpora, models\n",
    "from pprint import pprint\n",
    "import string"
   ]
  },
  {
   "cell_type": "code",
   "execution_count": 3,
   "metadata": {},
   "outputs": [],
   "source": [
    "news = pd.read_csv(\"news.csv\")\n",
    "news_titles = news.title\n",
    "news_articles = news.content"
   ]
  },
  {
   "cell_type": "markdown",
   "metadata": {},
   "source": [
    "The first thing to do is to tokenize the news article titles into individual words"
   ]
  },
  {
   "cell_type": "code",
   "execution_count": 4,
   "metadata": {},
   "outputs": [],
   "source": [
    "titles_tokenized = []\n",
    "for i in range (len(news_titles.index)):\n",
    "    titles_tokenized.append(nltk.word_tokenize(news_titles.iloc[i]))"
   ]
  },
  {
   "cell_type": "markdown",
   "metadata": {},
   "source": [
    "Next, we remove stop words from the news titles, done using the stopwords package from nltk. With trial and error with the LDA, it was deemed that many of the words should be removed (including some individual tokens as well). This is because these words overpowered the topics and results in very weak topics. Namely, the works \"new\", \"york\", and \"times\" were removed, as the New York Times journal name appeared in many of the titles but did not add any value or input to the actual topics. Similarly, \"breitbart\" (another news journal) was removed. The names \"Donald\", \"Trump\", \"Hillary\", \"Bill\", and \"Clinton\" were removed because they also overpowered the topics. If not removed, almost every single topic puts these names as the strongest indicators of the topic, so I decided to remove them as well. At this stage I also choose to remove any words that have length less than 3, because these words do not contribute to topics and typically just stain the topics with useless information."
   ]
  },
  {
   "cell_type": "code",
   "execution_count": 5,
   "metadata": {},
   "outputs": [],
   "source": [
    "stop_words = stopwords.words('english')\n",
    "stop_words.append(\":\")\n",
    "stop_words.append(\",\")\n",
    "stop_words.append(\"-\")\n",
    "stop_words.append(\"$\")\n",
    "stop_words.append(\".\")\n",
    "stop_words.append(\"?\")\n",
    "stop_words.append(\"trump\")\n",
    "stop_words.append(\"breitbart\")\n",
    "stop_words.append(\"donald\")\n",
    "stop_words.append(\"new\")\n",
    "stop_words.append(\"york\")\n",
    "stop_words.append(\"times\")\n",
    "stop_words.append(\"clinton\")\n",
    "stop_words.append(\"bill\")\n",
    "stop_words.append(\"hillary\")\n",
    "stop_words.append(\"says\")\n",
    "stop_words.append(\"evening\")\n",
    "stop_words.append(\"briefing\")\n",
    "stop_words.append(\"news\")\n",
    "titles_no_stopwords = []\n",
    "for i in range(len(news_titles.index)):\n",
    "    titles_no_stopwords.append([word.lower() for word in titles_tokenized[i] if word.lower() not in stop_words and len(word) > 3])"
   ]
  },
  {
   "cell_type": "markdown",
   "metadata": {},
   "source": [
    "The following iterates through each news article title and stems the words that were not removed during the stop words stage. I also experimented with a lemmatizer, but with trial and error and observing the topics, stemming produces better results."
   ]
  },
  {
   "cell_type": "code",
   "execution_count": 6,
   "metadata": {},
   "outputs": [],
   "source": [
    "ps = PorterStemmer()\n",
    "lm = WordNetLemmatizer()\n",
    "titles_stemmed = []\n",
    "\n",
    "for i in range(len(news_titles.index)):\n",
    "    sentence = []\n",
    "    for j in range(len(titles_no_stopwords[i])):\n",
    "        sentence.append(ps.stem(titles_no_stopwords[i][j]))\n",
    "    titles_stemmed.append(sentence)"
   ]
  },
  {
   "cell_type": "markdown",
   "metadata": {},
   "source": [
    "The following creates a dictionary of the words in the corpus. Here I am able to filter words based on the extremes; if they appear in less than X documents, or if they appear in more than Y% of the documents. Through repeated experimentation and hyperparameter tuning, I decided to filter words that appear in less than 140 documents or those that appear in more than 60% of the documents. I also automatically keep any word that appears more than 15000 times."
   ]
  },
  {
   "cell_type": "code",
   "execution_count": 7,
   "metadata": {},
   "outputs": [],
   "source": [
    "news_dictionary = gensim.corpora.Dictionary(titles_stemmed)\n",
    "news_dictionary.filter_extremes(no_below=140, no_above=0.60, keep_n=15000)"
   ]
  },
  {
   "cell_type": "markdown",
   "metadata": {},
   "source": [
    "The following creates a bag of words representation of the dictionary, then initializes the LDA model using the representation. I decided to create 8 topics. If the model has more, the topics seem to spread too thin and have a lot of overlap with each other. With less topics, they seem very mixed and no one topic can be discerned among the data. "
   ]
  },
  {
   "cell_type": "code",
   "execution_count": 8,
   "metadata": {},
   "outputs": [
    {
     "name": "stdout",
     "output_type": "stream",
     "text": [
      "Topic: 0 \n",
      "Words: 0.330*\"border\" + 0.298*\"immigr\" + 0.222*\"nation\" + 0.021*\"plan\" + 0.019*\"democrat\" + 0.017*\"call\" + 0.012*\"state\" + 0.012*\"russia\" + 0.011*\"presid\" + 0.007*\"leader\"\n",
      "Topic: 1 \n",
      "Words: 0.424*\"u.s.\" + 0.220*\"russia\" + 0.196*\"polit\" + 0.042*\"syria\" + 0.020*\"obama\" + 0.013*\"state\" + 0.012*\"plan\" + 0.010*\"take\" + 0.009*\"women\" + 0.009*\"immigr\"\n",
      "Topic: 2 \n",
      "Words: 0.257*\"presid\" + 0.188*\"call\" + 0.138*\"back\" + 0.115*\"women\" + 0.110*\"china\" + 0.085*\"syria\" + 0.025*\"obama\" + 0.012*\"state\" + 0.012*\"hous\" + 0.011*\"republican\"\n",
      "Topic: 3 \n",
      "Words: 0.236*\"attack\" + 0.209*\"state\" + 0.144*\"first\" + 0.135*\"protest\" + 0.119*\"year\" + 0.094*\"leader\" + 0.011*\"polic\" + 0.009*\"media\" + 0.006*\"kill\" + 0.005*\"hous\"\n",
      "Topic: 4 \n",
      "Words: 0.420*\"report\" + 0.236*\"media\" + 0.152*\"take\" + 0.087*\"hous\" + 0.014*\"white\" + 0.012*\"presid\" + 0.011*\"offic\" + 0.010*\"women\" + 0.007*\"american\" + 0.007*\"china\"\n",
      "Topic: 5 \n",
      "Words: 0.232*\"white\" + 0.217*\"hous\" + 0.137*\"american\" + 0.120*\"court\" + 0.101*\"die\" + 0.097*\"case\" + 0.016*\"obama\" + 0.013*\"state\" + 0.012*\"republican\" + 0.009*\"presid\"\n",
      "Topic: 6 \n",
      "Words: 0.253*\"obama\" + 0.159*\"plan\" + 0.156*\"democrat\" + 0.144*\"polic\" + 0.139*\"elect\" + 0.089*\"republican\" + 0.010*\"american\" + 0.006*\"state\" + 0.005*\"immigr\" + 0.005*\"attack\"\n",
      "Topic: 7 \n",
      "Words: 0.266*\"kill\" + 0.211*\"show\" + 0.198*\"health\" + 0.174*\"offic\" + 0.022*\"polic\" + 0.020*\"republican\" + 0.017*\"american\" + 0.017*\"call\" + 0.014*\"presid\" + 0.012*\"syria\"\n"
     ]
    }
   ],
   "source": [
    "bow_news_corpus = [news_dictionary.doc2bow(doc) for doc in titles_stemmed]\n",
    "lda_model = gensim.models.LdaMulticore(bow_news_corpus, num_topics=8, id2word=news_dictionary, passes=4, workers=4)\n",
    "for idx, topic in lda_model.print_topics(-1):\n",
    "    print('Topic: {} \\nWords: {}'.format(idx, topic))"
   ]
  },
  {
   "cell_type": "markdown",
   "metadata": {},
   "source": [
    "The first thing that is apparent is that all of the topics are dominated by political terminology. This indicates to me that the bulk of the articles in this dataset are focused on political theory and/or international affairs. Throughout topics there are mentions of the American political parties and the present and former presidents, but also mentions of China, Russia, Syria, immigration, and the \"state\". Although there are related words among the topics, there are still discernable differences.\n",
    "\n",
    "The following are my predictions about the above topics.\n",
    "\n",
    "Topic 0 is about Immigration, with \"border\" and \"immigr\" being the most important. \"immigr\" is the stemmed version of either \"immigration\" or \"immigrate\" or \"immigrant\", either of which indicate that these articles often talk about them along with immigration policies.\n",
    "\n",
    "Topic 1 is about International Relations and Conflict. Some of the words include \"russia\", \"syria\" as well as \"u.s.\", so the articles likely talk about America's relation to these countries and others.\n",
    "\n",
    "Topic 2 is very hard to distinguish what is it about. Through many iterations of the LDA model there always seems to be one topic that is very jumbled/hard to classify. This is it. My best guess is that it is about Global Issues, as various countries are mentioned in the topic very often (\"china\", \"syria\"). \"women\" is also an important word here, so maybe many of the articles talk about feminism. Therefore, this topic seems to talk about different kinds of issues all over the world.\n",
    "\n",
    "Topic 3 is about Issues in America, as \"protest\" and \"state\" are mentioned often, possibly indicating that these articles talk about the stress between the population and the government. \"media\" and \"kill\" are also mentioned here, maybe about the media depiction of these events and maybe some other more serious events that are causing these issues.\n",
    "\n",
    "Topic 4 is about Journalism, because \"media\" and \"report\" are the most important words here. The articles probably talk about the different issues with the media in the country, possibly also about propoganda and similar issues. \n",
    "\n",
    "Topic 5 is about the American Administration. The words \"white\" and \"house\" indicate frequent talk about the white house and the president but \"court\" and \"case\" indicate the main senate and judicial system of the country and other issues that they must deal with other than the president himself. Many of these articles likely talk about prominent cases and the laws in America.\n",
    "\n",
    "Topic 6 is about the Presidency. \"obama\" is mentioned here, as well as \"democrats\", \"republican\", \"polic\", likely the stemmed version of policies, all indicating entities commonly associated with the president of the U.S. I am sure if I did not remove trump from the data, he would be the most important word in this topic. \"plans\" is also here, probably the articles mentioning the President's \"plan\" for different things.\n",
    "\n",
    "Topic 7 is about Safety/Terrorism. \"health\" and \"kill\" are important in this topic. America the good health and safety of the American people and to prevent attacks. Moreover, \"syria\" is also represented in this topic, which likely indicates many of the articles talking about past terrorism attacks by people in that area of the world.\n"
   ]
  },
  {
   "cell_type": "markdown",
   "metadata": {},
   "source": [
    "Most representative news title for each topic:"
   ]
  },
  {
   "cell_type": "code",
   "execution_count": 11,
   "metadata": {},
   "outputs": [],
   "source": [
    "num_topics = 8\n",
    "scores = [0 for _ in range(num_topics)]\n",
    "best_titles = [\"\" for _ in range(num_topics)]\n",
    "\n",
    "for i in range(len(news_titles)):\n",
    "    top = lda_model[bow_news_corpus[i]]\n",
    "    for j in range(num_topics):\n",
    "        score = top[j][1]\n",
    "        if score > scores[j]:\n",
    "            scores[j] = score\n",
    "            best_titles[j] = news_titles[i]"
   ]
  },
  {
   "cell_type": "code",
   "execution_count": 12,
   "metadata": {},
   "outputs": [
    {
     "data": {
      "text/plain": [
       "['Border Patrol Union: Trump’s Border Plan ’Gives Us the Tools We Need’',\n",
       " 'Friday Mailbag: Politics, Politics, Politics - The New York Times',\n",
       " 'China: Sean Spicer ’Not in a Position’ to Call South China Sea ’International Territory’ - Breitbart',\n",
       " 'ESPN’s Sage Steele Under Attack for Criticizing Airport Protests After She Missed a Flight - Breitbart',\n",
       " 'Report: DePaul University Banned ’Gay Lives Matter’ Poster for Gay Reporter’s Lecture on Radical Islam - Breitbart',\n",
       " 'Case Study in Chaos: How Management Experts Grade a Trump White House - The New York Times',\n",
       " 'Democrats Facing Elections Refusing to Hold Town Hall Meetings',\n",
       " 'ISIS Claims Responsibility for Killing of French Police Officer - The New York Times']"
      ]
     },
     "execution_count": 12,
     "metadata": {},
     "output_type": "execute_result"
    }
   ],
   "source": [
    "best_titles"
   ]
  },
  {
   "cell_type": "markdown",
   "metadata": {},
   "source": [
    "Immigration -  'Border Patrol Union: Trump’s Border Plan ’Gives Us the Tools We Need’'\n",
    "\n",
    "International Relations - 'Friday Mailbag: Politics, Politics, Politics - The New York Times'\n",
    "\n",
    "Various Issues - 'China: Sean Spicer ’Not in a Position’ to Call South China Sea ’International Territory’ - Breitbart'\n",
    "\n",
    "Issues in America - 'ESPN’s Sage Steele Under Attack for Criticizing Airport Protests After She Missed a Flight - Breitbart'\n",
    "\n",
    "Journalism - 'Report: DePaul University Banned ’Gay Lives Matter’ Poster for Gay Reporter’s Lecture on Radical Islam - \n",
    "Breitbart'\n",
    "\n",
    "American Administration - 'Case Study in Chaos: How Management Experts Grade a Trump White House - The New York Times'\n",
    "\n",
    "Presidency - 'Democrats Facing Elections Refusing to Hold Town Hall Meetings'\n",
    "\n",
    "Safety/Terrorism - 'ISIS Claims Responsibility for Killing of French Police Officer - The New York Times'"
   ]
  },
  {
   "cell_type": "markdown",
   "metadata": {},
   "source": [
    "Now to repeat the same process but with the content of the news articles"
   ]
  },
  {
   "cell_type": "code",
   "execution_count": null,
   "metadata": {},
   "outputs": [],
   "source": [
    "articles_tokenized = []\n",
    "for i in range (len(news_titles.index)):\n",
    "    articles_tokenized.append(nltk.word_tokenize(news_articles.iloc[i]))"
   ]
  },
  {
   "cell_type": "code",
   "execution_count": 330,
   "metadata": {},
   "outputs": [],
   "source": [
    "stop_words = stopwords.words('english')\n",
    "stop_words.append(\":\")\n",
    "stop_words.append(\",\")\n",
    "stop_words.append(\"-\")\n",
    "stop_words.append(\"$\")\n",
    "stop_words.append(\".\")\n",
    "stop_words.append(\"?\")\n",
    "stop_words.append(\"trump\")\n",
    "stop_words.append(\"breitbart\")\n",
    "stop_words.append(\"donald\")\n",
    "stop_words.append(\"clinton\")\n",
    "stop_words.append(\"bill\")\n",
    "stop_words.append(\"hillary\")\n",
    "stop_words.append(\"clinton\")\n",
    "stop_words.append(\"american\")\n",
    "stop_words.append(\"report\")\n",
    "stop_words.append(\"obama\")\n",
    "\n",
    "articles_no_stopwords = []\n",
    "for i in range(len(news_titles.index)):\n",
    "    articles_no_stopwords.append([word.lower() for word in articles_tokenized[i] if word.lower() not in stop_words and len(word) > 3])\n",
    "                                \n",
    "ps = PorterStemmer()\n",
    "articles_stemmed = []\n",
    "for i in range(len(news_titles.index)):\n",
    "    sentence = []\n",
    "    for j in range(len(articles_no_stopwords[i])):\n",
    "        sentence.append(ps.stem(articles_no_stopwords[i][j]))\n",
    "    articles_stemmed.append(sentence)\n",
    "                                \n",
    "news_dictionary = gensim.corpora.Dictionary(articles_stemmed)\n",
    "news_dictionary.filter_extremes(no_below=100, no_above=0.25, keep_n=100000)"
   ]
  },
  {
   "cell_type": "markdown",
   "metadata": {},
   "source": [
    "For the article contents, I decided to use less topics (only 5) because with more the topics seem to jumbled and I could not distinguish any real topics"
   ]
  },
  {
   "cell_type": "code",
   "execution_count": 331,
   "metadata": {},
   "outputs": [
    {
     "name": "stdout",
     "output_type": "stream",
     "text": [
      "Topic: 0 \n",
      "Words: 0.005*\"media\" + 0.005*\"vote\" + 0.004*\"republican\" + 0.004*\"student\" + 0.004*\"parti\" + 0.004*\"protest\" + 0.004*\"voter\" + 0.004*\"democrat\" + 0.003*\"women\" + 0.003*\"school\"\n",
      "Topic: 1 \n",
      "Words: 0.004*\"game\" + 0.004*\"play\" + 0.003*\"team\" + 0.003*\"compani\" + 0.002*\"life\" + 0.002*\"school\" + 0.002*\"women\" + 0.002*\"realli\" + 0.002*\"feel\" + 0.002*\"someth\"\n",
      "Topic: 2 \n",
      "Words: 0.006*\"democrat\" + 0.004*\"senat\" + 0.004*\"republican\" + 0.004*\"parti\" + 0.004*\"attack\" + 0.003*\"percent\" + 0.003*\"russia\" + 0.003*\"islam\" + 0.003*\"leader\" + 0.003*\"mrs.\"\n",
      "Topic: 3 \n",
      "Words: 0.010*\"polic\" + 0.006*\"attack\" + 0.005*\"investig\" + 0.005*\"kill\" + 0.003*\"charg\" + 0.003*\"fire\" + 0.003*\"2017\" + 0.003*\"comey\" + 0.003*\"death\" + 0.003*\"russian\"\n",
      "Topic: 4 \n",
      "Words: 0.006*\"compani\" + 0.005*\"immigr\" + 0.005*\"republican\" + 0.005*\"court\" + 0.005*\"health\" + 0.005*\"feder\" + 0.004*\"percent\" + 0.004*\"china\" + 0.004*\"polici\" + 0.004*\"care\"\n"
     ]
    }
   ],
   "source": [
    "bow_news_corpus = [news_dictionary.doc2bow(doc) for doc in articles_stemmed]\n",
    "lda_model = gensim.models.LdaMulticore(bow_news_corpus, num_topics=5, id2word=news_dictionary, passes=4, workers=4)\n",
    "for idx, topic in lda_model.print_topics(-1):\n",
    "    print('Topic: {} \\nWords: {}'.format(idx, topic))"
   ]
  },
  {
   "cell_type": "markdown",
   "metadata": {},
   "source": [
    "The preprocessing of the data for the news articles was similar to the process for the news titles but some different words were excluded, namely \"report\", \"american\", \n",
    "\n",
    "Topic 0 is about the Elections. \"vote\", \"voter\", \"republican\" and \"democrat\" are all in this topic, as well as \"student\" and \"protest\", which can be indicative of the large volumes of protests during elections because of disagreements between the American people. Students are also commonly protesting during elections. \n",
    "\n",
    "Topic 1 is about Sports. We see \"game\", \"play\", and \"team\", so these articles are talking about the players who play in the different games and sports, and all of the teams in the different leagues.\n",
    "\n",
    "Topic 2 is about the American Government. \"democrat\", \"republican\", \"senate\" and \"party\" are all present in this topic which clearly indicates the two parties of the American government and how they cooperate within the senate. \n",
    "\n",
    "Topic 3 is about Crime. \"police\", \"attack\", \"investigation\"/\"investigating\", \"kill\" and \"charge\". Almsot every single one of these words is used when a certain crime is being reported on the news, (maybe not \"kill\", unless it is a murder). This is one of the best represented topics.\n",
    "\n",
    "Topic 4 is hard to distinguish but my best guess is that it is about American Policies. It mentions companies, immigration, court, health. All of these are common among American issues so maybe the topic is about policies established or being discussed by the american government. "
   ]
  },
  {
   "cell_type": "markdown",
   "metadata": {},
   "source": [
    "Most representative news article for each topic"
   ]
  },
  {
   "cell_type": "code",
   "execution_count": 14,
   "metadata": {},
   "outputs": [],
   "source": [
    "num_topics = 8\n",
    "scores = [0 for _ in range(num_topics)]\n",
    "best_articles = [\"\" for _ in range(num_topics)]\n",
    "\n",
    "for i in range(len(news_titles)):\n",
    "    top = lda_model[bow_news_corpus[i]]\n",
    "    for j in range(num_topics):\n",
    "        score = top[j][1]\n",
    "        if score > scores[j]:\n",
    "            scores[j] = score\n",
    "            best_articles[j] = news_articles[i]"
   ]
  },
  {
   "cell_type": "code",
   "execution_count": 15,
   "metadata": {},
   "outputs": [
    {
     "data": {
      "text/plain": [
       "['As President Donald J. Trump prepares to kick off his new border security plan, various news outlets have begun to criticize the effort by focusing on the border wall. However, members from the union representing the men and women from the U. S. Border Patrol stated that the proposal comes from listening to agents instead of politicians. [Various outlets have continued to question the notion of building a border wall and have focused on the perceived challenges of such an enterprise. Other outlets have criticized the effectiveness of the measure claiming that it does not address the current immigration crisis. The various news organizations have failed to mention the complete control that Mexican drug cartels have over human smuggling, narcotics trafficking, and other illicit activities along both sides of the border.  The executive orders that President Trump will be signing provides border security agents with the tools that they have been denied for too long, said Hector Garza, a U. S. Border Patrol agent and the President for the Local 2455 of the National Border Patrol Council. As part of the union’s leadership, Garza is able to speak about issues affecting the men and women that he represents. Despite the many misconceptions by pundits and individuals who have not been to the border, a wall with the addition of new manpower, surveillance technology and other equipment will be an effective tool in slowing down illegal immigration and drug smuggling, Garza said.  “We know we won’t have a wall along the 2, 000 miles of border,” he said. “What we will have is a wall where it is needed. That barrier with proper manpower, resources, technology and other tools will be effective. But most important, for the first time we have a president that wants to secure the border. ”  Through the NBPC, agents have been able to relay vital information to Trump and his staff about the realities of the border and what is needed in each particular sector.  “During the previous administration, we had a president that failed to acknowledge the problems on the border. Now, we have a president that not only acknowledges the problems, but is willing to give us the tools needed to address them. ” Ildefonso Ortiz is an award winning journalist with Breitbart Texas. He   the Cartel Chronicles project with Brandon Darby and Stephen K. Bannon.  You can follow him on Twitter and on Facebook.',\n",
       " 'In this new weekly feature, we will surface some of the more thoughtful and provocative concerns that come into our office. The public editor’s column can only address so much and, though we’ll reply to many of your comments, we unfortunately aren’t unable to reply personally to everything that lands in our inbox. By giving a weekly glimpse into our mailbag, we hope to give exposure to the fluctuating concerns of The Times’s audience  —   and in doing so, help facilitate a better conversation between the Gray Lady and her readers. This week, as you probably would guess, our inbox is inundated with readers reacting to one of the more astonishing presidential election surprises in modern history. As the returns were coming in Tuesday night, readers became increasingly concerned over how The Times could have so incorrectly forecasted the outcome. The public editor’s column addressed the issue on Wednesday, and the letters continue to stream in. Some complained of The Times’s perceived liberal bias and think its New York newsroom is out of touch with much of America. Here are some of the letters: Comments on Wednesday’s public editor column generally echoed the sentiment. Pamela Colloff, executive editor of Texas Monthly had this to say, on Twitter: The Times’s national editor, Marc Lacey, pointed out that The Times has national correspondents who live across the country. And earlier Friday, The Times’s publisher, Arthur Sulzberger Jr. sent a note to the newsroom on the topic of covering the Trump White House. The Times will “approach the incoming Trump administration without bias,” he wrote. “We will cover his policies and his agenda fairly. We will bring expert analysis and thoughtful commentary to the changes we see in government, and to their ramifications on the ground. ” He added: “We will look within and beyond Washington to explore the roots of the anger that has roiled red and blue America. If many Americans no longer seem to understand each other, let’s make it our job to interpret and explain. ” Some readers blamed the Democrats for not stepping up. The following reader email came in before the votes were tallied, but we thought it was worth noting. It’s about political coverage on the editorial pages: The public editor’s take: Sexism, subtle and otherwise, is a recurring theme that, I can assure you, has my attention. I encourage any readers to write with concerns, or anything specific they notice on the topic. Another reader took issue with a headline on a piece that predicted how Trump would end up pulling off his shock win: “Donald Trump’s Big Bet on Less Educated Whites. ” The election wasn’t the only subject on readers’ minds this week. A Times investigation into genetically modified foods sparked controversy, with much of the dissent landing in our inbox. The investigation’s claim: “Genetic modification in the United States and Canada has not accelerated increases in crop yields or led to an overall reduction in the use of chemical pesticides. ” Here are a couple of the reader responses: A commentator on Twitter shared Mr. Wanzek’s concern. We shared these concerns with The Times’s business editor, Dean Murphy. Here’s his reply. On The Times carrying out such studies: On the complaint that The Times views farmers as less intelligent: The public editor’s take: Over all, I found the piece to be a thorough, educational read on a complex subject. But I thought readers had some interesting feedback. First, it’s true that big news organizations like The Times often produce their own studies and independent analysis. In this case, given how many questions that were raised about the methodology, it’s clear that the piece would have benefited from more explanation of how the data was assembled and used. On the issue of the story’s tone toward farmers, I didn’t see anything that struck me as intentionally talking down to farmers. But then, I’m not a farmer, and I would have enjoyed hearing more from those who are. Another story this week that drew pointed reader replies was headlined, in print and on the home page: “Locker Room Talk Becomes the Talk of Harvard. ” The public editor’s column addressed the issue, which prompted readers who agreed with the headline choice to come to its defense. And finally, one Trump rally attendee wrote to apologize for how he treated the media. See you next week.  —   Updated, 2:30 pm, Tuesday, November 15.',\n",
       " 'Philippines President Rodrigo Duterte shocked international observers last week with a call to occupy the uninhabited islands of the South China Sea before China colonized them, an apparent   from his   campaign to improve bilateral relations with China. [Duterte assured China that he merely wanted to “maintain the geopolitical balance” in the Spratly Islands on Monday, an archipelago that both China and the Philippines, as well as Vietnam, claim in part.   “For the information of China, we will not place there any offensive weapons, not even one gun,” he promised. “We are just there to claim the island for us because that is really ours. And I have ordered the Armed Forces to build structures there to signify to all that the islands are ours, and the Philippine flag should be placed on the structures. ” “China can relax, we are friends,” he added. “We will not go to war with you. ” Duterte has repeatedly asserted his fears that the Philippine military does not have the assets necessary to defeat China in a war. The Chinese government claims almost all territory in the South China Sea, including the sovereign territory of the Philippines, Vietnam, Taiwan, Brunei, Malaysia, and the waters off Natuna Island in Indonesia. In a landmark ruling last year, the Permanent Court of Arbitration at The Hague ruled that China’s claims were invalid before international law and the United Nations Convention on the Law of the Seas, granting the Philippines full sovereignty over the contested territory. Last week, Duterte abruptly announced a military operation to reassert Manila’s presence in the Spratly Islands. “We tried to be friends with everybody but we have to maintain our jurisdiction now, at least the areas under our control. And I have ordered the armed forces to occupy all these,” he said. “Even those, those vacant (islands) that are considered ours, let’s live there,” Duterte added. “It’s like we’re all competing to take these islands. And what’s ours now at least, let’s take it and make a strong point there that this is ours. ” “This coming Independence Day [June 12] I may go to Pagasa [Thitu Island, Spratlys] to raise the flag. We want to make a strong point that that is ours,” Duterte promised. The announcement of a potential personal visit to the islands received a positive reception in Philippine media. “A visit to Pagasa will convey with impact the message of President Duterte about his looking after the needs of the most disadvantaged communities and the military contingent keeping watch over the threatened frontiers of the archipelago,” columnist Federico Pascual Jr. wrote in the Philippine Star. “With this one act, the President may nip the growing impression that he seems to be succumbing to China’s blandishments. ” The positive reception comes as little surprise given the public sentiment towards China in the Philippines. A poll released in late January found that 84 percent of Filipinos supported a confrontation with China over the South China Sea territories, particularly the Spratly and Paracel Islands. Another poll released this week, both by the firm Pulse Asia, found that Duterte’s approval ratings have fallen since December, though he still boasts an impressive 78 percent approval rating. Duterte has hinted for some time that he has changed his opinion on the presence of China in Philippine territory in the region. In March, the president made a vague promise to “tell them [China] straight that this is ours” by ordering the military to build “structures” on uninhabited islands in the region. “The President wants facilities built such as: barracks for the men, water (desalination) and sewage disposal systems, power generators (conventional and renewable) lighthouses, and shelters for fishermen,” Defense Secretary Delfin Lorenzana clarified.',\n",
       " 'The disruptions caused by protesters at Los Angeles International airport caused ESPN host Sage Steele to miss a flight. Now Steele is under attack for jumping to Instagram to rail about the protests that caused her such inconvenience. [On Friday, President Trump issued his temporary moratorium on immigration from a list of seven countries the Obama administration had flagged as “countries of concern” back in 2015. Almost immediately liberal activists flooded into several big city airports across the country to protest the order.  One of those groups of disruptors descended upon LAX just as NBA Countdown host Steele was attempting to catch a flight, the Philadelphia Inquirer reported. Steele complained that the protesters caused her to walk nearly two miles in order to catch a flight to Houston and delayed her long enough for her to miss the flight. Steele felt exasperated enough to jump on her Instagram account and decry the protesters for causing “elderly and parents with small children” to have to walk long distances to reach flights. “I love witnessing people exercise their right to protest! But it saddened me to see the joy on their faces knowing that they were successful in disrupting so many people’s travel plans,” she added.  But not long after posting her complaint, some of her sports reporter colleagues began to slam her for attacking the protesters. On Twitter, Sports Illustrated writer Michael Silver slapped Steele, saying the protesters were “right” for doing what they did. Sometimes standing up for what’s right provokes inconvenience and all  …     https:  .   —   Michael Silver (@MikeSilver) January 30, 2017,  Steele replied that Silver didn’t actually read what she wrote. @MikeSilver better, more effective ways to do it, Silver!    my post.  Don’t worry  —   we can arm wrestle over it this week in Houston,  —   Sage Steele (@sagesteele) January 30, 2017,  Julie   another wealthy, white reporter for ESPN, also chided Steele for her Instagram post. I understand the inconvenience of missing a flight etc, but why people are protesting   inhumane   is much bigger than that. https:  .   —   Julie   (@JSB_TV) January 30, 2017,  Steele again replied that   must have missed the part where she said she supports people protesting for their political ideals and told   to   her Instagam post. Steele has engaged in political debate in the past. Last year she slammed the players protesting the national anthem, warning people to “look up the word democracy. ” Hey @MikeEvans13_ look up definition of the word DEMOCRACY  remember this pic while   your right to protest #perspective pic. twitter.   —   Sage Steele (@sagesteele) November 14, 2016,  The ESPNer also slammed African Americans for attacking other African Americans for having opinions that run contrary to the   wisdom. Follow Warner Todd Huston on Twitter @warnerthuston or email the author at igcolonel@hotmail. com.',\n",
       " 'DePaul University reportedly banned “Gay Lives Matter” posters which were designed to advertise a lecture from a gay journalist on radical Islam which took place on campus Wednesday night. [Here’s the call for protests of my talk tonight at @DePaulU ”Dictatorships and Radical Islam: Enemies of LGBTQ Rights.” Notice missing word? pic. twitter.   —   Jamie Kirchick (@jkirchick) May 10, 2017,   According to The College Fix, students at DePaul University planning to advertise for a lecture event featuring journalist Jamie Kirchick were reportedly rejected by campus administrators, who said that the posters were an effort to “ ” the approach of the Black Lives Matter movement and “pits two marginalized groups against each other. ” On Wednesday evening, Kirchick, who is gay, spoke about the radical elements of Islam that threaten members of the LGBTQ community in a lecture titled, “Dictatorships and Radical Islam: The Enemies of Gay Rights. ” “This is a disappointing decision by the university to prohibit our poster,” said Matt Lamb, a leader of the Turning Point USA group that helped bring Kirchick to campus. “The event by our DePaul chapter is calling attention to the harms that big government, authoritarian regimes pose to LGBT citizen’s most basic human rights. ” DePaul’s Turning Point USA President Jason Plotzke expressed his confusion over the university’s decision to reject their poster, arguing that their design had no intention of undermining the Black Lives Matter movement. “We do not see how the branding of Black Lives Matter is exclusive from all other lives and we cannot make a similar statement in a different movement,” Plotzke said. “Sure, it is related and based off the BLM slogan, but with no intent to undermine the movement. We are not even using the poster to push an entire movement, but rather a specific event. We, as students in an academic setting, should be allowed to market our events as we see fit. ” Tom Ciccotta is a libertarian who writes about economics and higher education for Breitbart News. You can follow him on Twitter @tciccotta or email him at tciccotta@breitbart. com',\n",
       " 'For someone who promoted his management skills and campaigned as an “organizational genius,” as Anderson Cooper of CNN put it, it has been a rocky White House debut for Donald J. Trump, the first president to go directly from the executive suite to the Oval Office. “Chaos” seems to be the word most often invoked, closely followed by “turmoil. ” (One exception: the White House spokesman, Sean Spicer, who said he preferred “ . ”) In less than two weeks, Mr. Trump created upheaval at the nation’s borders, alienated longtime allies, roiled markets with talk of a trade war and prompted some of the largest protests any president has faced. The conservative editorial page of The Wall Street Journal bemoaned a refugee policy “so poorly explained and prepared for, that it has produced confusion and fear at airports, an immediate legal defeat, and political fury at home and abroad. ” Even the top House Republican, Speaker Paul D. Ryan, who had released a statement praising the immigration order, later distanced himself, saying, “It’s regrettable that there was some confusion with the rollout. ” All new presidents undergo a learning curve. But Mr. Trump promised a seamless transition and, with a real chief executive in charge as opposed to a career politician, an administration that would function as a   machine. So it doesn’t seem premature to ask some leading management experts for an assessment of Mr. Trump’s first weeks, purely from the viewpoint of organizational behavior and management effectiveness, as I did this week. The unanimous verdict: Thus far, the Trump administration is a textbook case of how not to run a complex organization like the executive branch. “This is so basic, it’s covered in the introduction to the M. B. A. program that all our students take,” said Lindred Greer, an assistant professor of organizational behavior at the Stanford Graduate School of Business. By all outward indications, Mr. Trump “desperately needs to take the course,” she said. Jeffrey Pfeffer, professor of organizational behavior at Stanford and the author of “Power: Why Some People Have It and Others Don’t,” said Mr. Trump’s executive actions as president “are so far from any responsible management approach” that they all but defy analysis. “Of course, this isn’t new,” he told me. “His campaign also violated every prudent management principle. Everyone including our friends on Wall Street somehow believed that once he was president he’d change. I don’t understand that logic. ” Wall Street did take notice. After months of cheering the prospect of tax reform and infrastructure spending, investors sold stocks after a weekend of chaos at the nation’s airports connected to the president’s executive order on immigration. On Monday, the Dow industrials experienced the biggest   decline since the election, fueled by worries that a dysfunctional White House wouldn’t be able to execute Mr. Trump’s policies. “If you thought immigration was bad, just wait for health care,” Mr. Pfeffer warned. The White House did not respond to requests for comment. There is an enormous amount of literature and data exploring what constitutes effective management of complicated organizations. “The core principles have served many leaders really well,” said Jeffrey T. Polzer, professor of human resource management at Harvard Business School. “It’s really common sense: You want to surround yourself with talented people who have the most expertise, who bring different perspectives to the issue at hand. Then you foster debate and invite different points of view in order to reach a   solution. ” This is often easier said than done. It “requires an openness to being challenged, and some   and even humility to acknowledge that there are areas where other people know more than you do,” Mr. Polzer continued. “This doesn’t mean decisions are made by consensus. The person at the top makes the decisions, but based on the facts and expertise necessary to make a good decision. ” Mr. Trump has already violated several of these core principles. The secretary of Homeland Security, John F. Kelly, was still discussing a proposed executive order restricting immigration when Mr. Trump went ahead and signed it. Nor was Jim Mattis, the defense secretary, consulted he saw the final order only hours before it went into effect. Not to consult thoroughly with top cabinet officers before deciding on the order “is insane,” since they “have the expertise and should be on top of the data,” Ms. Greer said. “Ignoring them leads to bad decisions and is also incredibly demoralizing. ” And there’s another reason to consult, Mr. Polzer said: “When people are genuinely involved in a decision and their input is heard and valued and respected, they are more likely to support and buy into the decision and be motivated to execute to the best of their abilities, even if the decision doesn’t go their way. ” Conversely, people who aren’t consulted feel they have no stake in a successful outcome. Far from encouraging and weighing differing views as part of the   process, Mr. Trump appears to view dissension as disloyalty. After career State Department officers circulated a draft cable questioning the effectiveness of the immigration ban, Mr. Spicer responded, “They should either get with the program or they can go. ” “Debate and dissent are essential to reaching any thoughtful outcome,” Ms. Greer said. Comments like Mr. Spicer’s “will discourage anyone from speaking up. You end up with group think, an echo chamber where people only say what they think the president wants to hear. ” And while it’s understandable that the president was eager to act swiftly to follow through on his campaign promises  —   he had made a long list of actions to be carried out on “Day 1”  —   his directives came across as needlessly hasty and poorly thought through. Some had to be reframed (talk of a Mexican border surcharge) or significantly modified and clarified after the fact (immigration policy). I asked the management experts to ignore their views about the merits of Mr. Trump’s policies, but all said that execution and substance are inextricably linked. “When you’re on the receiving end of a policy decision, the merits of the decision and the execution go hand in hand,” Mr. Polzer said. “If either one is done poorly, the outcomes will be bad. Even good plans that are poorly rolled out aren’t going to work well. ” For many people, the Affordable Care Act was indelibly tainted by the computer malfunctions that plagued its start. Similarly, for many Americans, the enduring image of Mr. Trump’s immigration policy will be that of a tearful Iraqi immigrant who was detained at Kennedy International Airport after risking his life working as a translator for the American military over a   period. (He was released after lawyers intervened on his behalf.) That prompted even Mr. Ryan to say, “No one wanted to see people with green cards or special immigrant visas, like translators, get caught up in all of this. ” Some Trump defenders have said that the president thrives on chaos, and it has proved to be an effective management approach for him in the past. But every expert I consulted said there is no empirical data or research that supports the notion that chaos is a productive management tool. “I’m not aware of anyone who advocates that,” Mr. Polzer said. “I don’t really know what’s going on in the White House, so I don’t feel comfortable commenting on that specifically. But I can say in general that in organizational settings, less chaos is a good thing. ” Everyone agreed that there was still time for Mr. Trump to right the ship. Other administrations have had course corrections and personnel  . But having to reorganize only weeks into a first term is not promising. If this were the private sector, “someone would be fired,” Ms. Greer said. That seems highly unlikely, since Mr. Trump has not even acknowledged a problem, instead blaming the media for an impression of upheaval in the White House. That is a fundamental problem, Mr. Pfeffer said. “No good business makes decisions that are based on falsehoods,” he said. “My sense is that Trump takes no one’s counsel but his own. That’s bad management, period. ”',\n",
       " 'As the media focuses on a handful of contentious town hall meetings held by Republican senators, several Democrats who face   campaigns this year have quietly decided to skip town halls to meet their constituents. [With the Republican Party in the majority, Senate Democrats are keeping a low profile in the hopes of giving voters fewer reasons to vote against them, the Associated Press reports.  The AP notes, “The nation’s most vulnerable Senate Democrats are avoiding town hall meetings as their Republican counterparts get pummeled by an energized electorate frustrated with President Donald Trump’s early agenda. ” Missouri’s Democrat Senator Claire McCaskill, for instance, has rebuffed offers to hold a town hall in a state that went for Donald Trump by 18 points last year. “Seems to me that all these members of Congress are afraid to face their constituents,” Hillary Shields, a member of Kansas City Indivisible, said after the senator turned down its invitation. West Virginia Democrat Joe Manchin has also decided to bag a town hall event for his voters. Manchin has been one of the leading Democrats to give Trump and Republicans some measure of support, and it is not too surprising to see Manchin throwing in with Republicans on some issues. After all, West Virginia voted Trump with a lopsided 68. 7 percent to Hillary Clinton’s low 26. 5 percent. But Manchin clearly understands that he is vulnerable to being challenged by a Republican in a state turning red. As to others, the AP noted that Ohio’s Sherrod Brown has only held phone conference calls that do not lend themselves to mass protests. Also, Pennsylvania’s Bob Casey promised to hold a town hall but has not scheduled any yet, and Montana Senator Jon Tester’s office noted he has already held several appearances, though none of them were town   events. Democrats are forewarned, though, especially after the hostile crowd Arkansas’ Republican Senator Tom Cotton faced this week, Senator Cotton was barely allowed to get a word in edgewise as   liberal protesters screamed at him, chanted at him, and berated him for the Trump administration’s agenda. Follow Warner Todd Huston on Twitter @warnerthuston or email the author at igcolonel@hotmail. com.',\n",
       " 'The police in Palm Springs, Calif. are mourning two officers who were shot and killed on Saturday while responding to a call about a domestic disturbance. One of the victims was a young mother and the other a veteran months away from retirement. Dozens of law enforcement officers converged on the scene, where a third officer had been wounded, to help search for the gunman. “I am awake in a nightmare right now,” said Chief Bryan Reyes of the Palm Springs Police Department. The Riverside County Sheriff’s Department, which took over the case, said on Sunday that a suspect, John Felix, 26, of Palm Springs, had been arrested. The police said that Mr. Felix had been injured while exchanging gunfire with the officers, but that his injuries were not   and that he was being treated at a local hospital. Mr. Felix will be charged with two counts of murder of a peace officer, the police said. The Los Angeles Times reported that Mr. Felix had a criminal record. He was convicted of assault with a deadly weapon in 2009 and sentenced to two years in prison. The episode began shortly after noon on Saturday when a woman called the police about her adult son. Three officers  —   Jose Gilbert Vega, 63 Lesley Zerebny, 27 and a man whose identity has not been released  —   responded to the call. A person at the house refused to open the front door and threatened to shoot them through it, Chief Reyes said. Within 10 minutes, shots had been fired and all three officers had been hit. “It was a simple family disturbance and he elected to open fire,” Chief Reyes said. Officer Zerebny had been on the force for a year and a half. She was married to a deputy for the Riverside County Sheriff’s Department. Officer Vega, who was married with eight children, had been with the department for 35 years. Chief Reyes said Officer Vega was not scheduled to work on Saturday, but he had picked up an overtime shift. He was planning to retire in December. “My employees are broken,” Chief Reyes said, his voice shaking. “If there’s ever a time to pray for Palm Springs P. D. it is now. ” Officers Zerebny and Vega are the first from the department to die in the line of duty since 1962, The Desert Sun reported.']"
      ]
     },
     "execution_count": 15,
     "metadata": {},
     "output_type": "execute_result"
    }
   ],
   "source": [
    "best_articles"
   ]
  }
 ],
 "metadata": {
  "kernelspec": {
   "display_name": "Python 3",
   "language": "python",
   "name": "python3"
  },
  "language_info": {
   "codemirror_mode": {
    "name": "ipython",
    "version": 3
   },
   "file_extension": ".py",
   "mimetype": "text/x-python",
   "name": "python",
   "nbconvert_exporter": "python",
   "pygments_lexer": "ipython3",
   "version": "3.7.1"
  }
 },
 "nbformat": 4,
 "nbformat_minor": 2
}
